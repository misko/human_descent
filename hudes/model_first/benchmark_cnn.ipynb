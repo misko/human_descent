{
 "cells": [
  {
   "cell_type": "code",
   "execution_count": 12,
   "metadata": {},
   "outputs": [
    {
     "name": "stdout",
     "output_type": "stream",
     "text": [
      "mps:0 mps:0 torch.Size([32, 28938]) torch.Size([1, 32, 28, 28])\n",
      "flipped 0.008519978523254394 tensor(-234.8750, device='mps:0', dtype=torch.float16)\n",
      "not flipped 0.010699682235717774 tensor(-234.8750, device='mps:0', dtype=torch.float16)\n",
      "flipped 0.006474952697753906 tensor(-234.8750, device='mps:0', dtype=torch.float16)\n",
      "not flipped 0.010698471069335937 tensor(-234.8750, device='mps:0', dtype=torch.float16)\n"
     ]
    }
   ],
   "source": [
    "from hudes.model_first.model_first_nn import param_nn_from_sequential\n",
    "from hudes.models_and_datasets.mnist import MNISTCNN, MNISTCNNFlipped\n",
    "import torch\n",
    "\n",
    "mnist_width_height = 28\n",
    "mnist_cnn = MNISTCNN()\n",
    "\n",
    "mnist_flipped_param_net = MNISTCNNFlipped()\n",
    "mnist_param_net = param_nn_from_sequential(mnist_cnn.net)\n",
    "\n",
    "\n",
    "device = \"mps\"\n",
    "\n",
    "params = torch.hstack([p.clone().reshape(-1) for p in mnist_cnn.parameters()]).reshape(\n",
    "    1, -1\n",
    ")\n",
    "params = params.to(device).to(torch.float16)\n",
    "\n",
    "params = torch.vstack([params, params + 0.01, params, params - 0.01])\n",
    "params = params.repeat(8, 1)\n",
    "\n",
    "batch = torch.rand(1, 32, mnist_width_height, mnist_width_height, device=device).to(\n",
    "    torch.float16\n",
    ")\n",
    "\n",
    "print(params.device, batch.device, params.shape, batch.shape)\n",
    "\n",
    "its = 100\n",
    "import time\n",
    "\n",
    "with torch.no_grad():\n",
    "    st = time.time()\n",
    "    k = 0\n",
    "    for idx in range(its):\n",
    "        out = mnist_flipped_param_net.forward(\n",
    "            params, batch.repeat(params.shape[0], 1, 1, 1)\n",
    "        )\n",
    "        k += out[1].mean()\n",
    "    print(\"flipped\", (time.time() - st) / its, k)\n",
    "\n",
    "    st = time.time()\n",
    "    k = 0\n",
    "    for idx in range(its):\n",
    "        out = mnist_param_net.forward(params, batch.repeat(params.shape[0], 1, 1, 1))\n",
    "        k += out[1].mean()\n",
    "    print(\"not flipped\", (time.time() - st) / its, k)\n",
    "\n",
    "    st = time.time()\n",
    "    k = 0\n",
    "    for idx in range(its):\n",
    "        out = mnist_flipped_param_net.forward(\n",
    "            params, batch.repeat(params.shape[0], 1, 1, 1)\n",
    "        )\n",
    "        k += out[1].mean()\n",
    "    print(\"flipped\", (time.time() - st) / its, k)\n",
    "\n",
    "    st = time.time()\n",
    "    k = 0\n",
    "    for idx in range(its):\n",
    "        out = mnist_param_net.forward(params, batch.repeat(params.shape[0], 1, 1, 1))\n",
    "        k += out[1].mean()\n",
    "    print(\"not flipped\", (time.time() - st) / its, k)"
   ]
  },
  {
   "cell_type": "code",
   "execution_count": 3,
   "metadata": {},
   "outputs": [
    {
     "data": {
      "text/plain": [
       "torch.Size([3, 28938])"
      ]
     },
     "execution_count": 3,
     "metadata": {},
     "output_type": "execute_result"
    }
   ],
   "source": [
    "params.shape"
   ]
  },
  {
   "cell_type": "code",
   "execution_count": 5,
   "metadata": {},
   "outputs": [
    {
     "data": {
      "text/plain": [
       "torch.Size([36, 28938])"
      ]
     },
     "execution_count": 5,
     "metadata": {},
     "output_type": "execute_result"
    }
   ],
   "source": [
    "params.repeat(12, 1).shape"
   ]
  },
  {
   "cell_type": "code",
   "execution_count": null,
   "metadata": {},
   "outputs": [],
   "source": []
  }
 ],
 "metadata": {
  "kernelspec": {
   "display_name": "human_descent_env",
   "language": "python",
   "name": "python3"
  },
  "language_info": {
   "codemirror_mode": {
    "name": "ipython",
    "version": 3
   },
   "file_extension": ".py",
   "mimetype": "text/x-python",
   "name": "python",
   "nbconvert_exporter": "python",
   "pygments_lexer": "ipython3",
   "version": "3.11.7"
  }
 },
 "nbformat": 4,
 "nbformat_minor": 2
}
